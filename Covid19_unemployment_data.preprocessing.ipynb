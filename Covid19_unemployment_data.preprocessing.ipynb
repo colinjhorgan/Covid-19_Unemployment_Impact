{
 "cells": [
  {
   "cell_type": "code",
   "execution_count": 77,
   "metadata": {},
   "outputs": [
    {
     "name": "stdout",
     "output_type": "stream",
     "text": [
      "<class 'pandas.core.frame.DataFrame'>\n",
      "RangeIndex: 12664 entries, 0 to 12663\n",
      "Data columns (total 5 columns):\n",
      " #   Column  Non-Null Count  Dtype \n",
      "---  ------  --------------  ----- \n",
      " 0   date    12664 non-null  object\n",
      " 1   state   12664 non-null  object\n",
      " 2   fips    12664 non-null  int64 \n",
      " 3   cases   12664 non-null  int64 \n",
      " 4   deaths  12664 non-null  int64 \n",
      "dtypes: int64(3), object(2)\n",
      "memory usage: 494.8+ KB\n",
      "None \n",
      "\n",
      "<class 'pandas.core.frame.DataFrame'>\n",
      "RangeIndex: 272 entries, 0 to 271\n",
      "Data columns (total 3 columns):\n",
      " #   Column  Non-Null Count  Dtype \n",
      "---  ------  --------------  ----- \n",
      " 0   date    272 non-null    object\n",
      " 1   cases   272 non-null    int64 \n",
      " 2   deaths  272 non-null    int64 \n",
      "dtypes: int64(2), object(1)\n",
      "memory usage: 6.5+ KB\n",
      "None \n",
      "\n",
      "<class 'pandas.core.frame.DataFrame'>\n",
      "RangeIndex: 424 entries, 0 to 423\n",
      "Data columns (total 11 columns):\n",
      " #   Column                                 Non-Null Count  Dtype  \n",
      "---  ------                                 --------------  -----  \n",
      " 0   FIPS Code                              424 non-null    int64  \n",
      " 1   State and area                         424 non-null    object \n",
      " 2   Year                                   424 non-null    int64  \n",
      " 3   Month                                  424 non-null    int64  \n",
      " 4   Civilian non-institutional population  424 non-null    object \n",
      " 5   Labor_Force_Total                      424 non-null    object \n",
      " 6   Labor_Force_Percent_of_Population      424 non-null    float64\n",
      " 7   Employment_Labor_Force                 424 non-null    object \n",
      " 8   Employment_Percent_of_Population       424 non-null    float64\n",
      " 9   Unemployment_Total                     424 non-null    object \n",
      " 10  Unemployment_Rate                      424 non-null    float64\n",
      "dtypes: float64(3), int64(3), object(5)\n",
      "memory usage: 36.6+ KB\n",
      "None \n",
      "\n"
     ]
    }
   ],
   "source": [
    "#import packages for analysis\n",
    "import pandas as pd\n",
    "import numpy as np\n",
    "import seaborn as sns\n",
    "import matplotlib.pyplot as plt\n",
    "\n",
    "#set paths to covid data\n",
    "state_path = 'covid_19_data/us-states.csv'\n",
    "nation_path = 'covid_19_data/us.csv'\n",
    "\n",
    "#set path to unemployment data\n",
    "unemp_path = 'unemployment_data/Unemployment_Data_adj.csv'\n",
    "\n",
    "#import data to pandas dataframes\n",
    "cov_state_df = pd.read_csv(state_path)\n",
    "cov_nat_df = pd.read_csv(nation_path)\n",
    "unemp_df = pd.read_csv(unemp_path)\n",
    "\n",
    "for df in [cov_state_df, cov_nat_df, unemp_df]:\n",
    "    print(df.info(), '\\n')"
   ]
  },
  {
   "cell_type": "code",
   "execution_count": 78,
   "metadata": {
    "scrolled": true
   },
   "outputs": [
    {
     "name": "stdout",
     "output_type": "stream",
     "text": [
      "<class 'pandas.core.frame.DataFrame'>\n",
      "Index: 12664 entries, 2020-01-21 to 2020-10-18\n",
      "Data columns (total 6 columns):\n",
      " #   Column           Non-Null Count  Dtype \n",
      "---  ------           --------------  ----- \n",
      " 0   state            12664 non-null  object\n",
      " 1   fips             12664 non-null  int64 \n",
      " 2   cases_state      12664 non-null  int64 \n",
      " 3   deaths_state     12664 non-null  int64 \n",
      " 4   cases_national   12664 non-null  int64 \n",
      " 5   deaths_national  12664 non-null  int64 \n",
      "dtypes: int64(5), object(1)\n",
      "memory usage: 692.6+ KB\n",
      "<class 'pandas.core.frame.DataFrame'>\n",
      "Index: 12664 entries, 2020-01-21 to 2020-10-18\n",
      "Data columns (total 6 columns):\n",
      " #   Column           Non-Null Count  Dtype \n",
      "---  ------           --------------  ----- \n",
      " 0   state            12664 non-null  object\n",
      " 1   fips             12664 non-null  int64 \n",
      " 2   cases_state      12664 non-null  int64 \n",
      " 3   deaths_state     12664 non-null  int64 \n",
      " 4   cases_national   12664 non-null  int64 \n",
      " 5   deaths_national  12664 non-null  int64 \n",
      "dtypes: int64(5), object(1)\n",
      "memory usage: 692.6+ KB\n"
     ]
    }
   ],
   "source": [
    "#Join cov_state and cov_nat dfs on the 'date' index\n",
    "cov_tot_df = cov_state_df.set_index('date').join(cov_nat_df.set_index('date'), lsuffix='_state', rsuffix='_national')\n",
    "#cov_tot_df.to_csv('combined_data.csv', index=True)\n",
    "\n",
    "#Summarize table\n",
    "cov_tot_df.info()\n",
    "\n",
    "#Result is a pandas dataframe where each row of state data and cases is accompanied by the national data at that time\n",
    "cov_tot_df.info()"
   ]
  },
  {
   "cell_type": "code",
   "execution_count": 79,
   "metadata": {},
   "outputs": [
    {
     "name": "stdout",
     "output_type": "stream",
     "text": [
      "<class 'pandas.core.frame.DataFrame'>\n",
      "Int64Index: 9354 entries, 0 to 10023\n",
      "Data columns (total 17 columns):\n",
      " #   Column                                 Non-Null Count  Dtype  \n",
      "---  ------                                 --------------  -----  \n",
      " 0   date                                   9354 non-null   object \n",
      " 1   state                                  9354 non-null   object \n",
      " 2   fips                                   9354 non-null   int64  \n",
      " 3   cases_state                            9354 non-null   int64  \n",
      " 4   deaths_state                           9354 non-null   int64  \n",
      " 5   cases_national                         9354 non-null   int64  \n",
      " 6   deaths_national                        9354 non-null   int64  \n",
      " 7   month                                  9354 non-null   int64  \n",
      " 8   FIPS Code                              9354 non-null   float64\n",
      " 9   Year                                   9354 non-null   float64\n",
      " 10  Civilian non-institutional population  9354 non-null   object \n",
      " 11  Labor_Force_Total                      9354 non-null   object \n",
      " 12  Labor_Force_Percent_of_Population      9354 non-null   float64\n",
      " 13  Employment_Labor_Force                 9354 non-null   object \n",
      " 14  Employment_Percent_of_Population       9354 non-null   float64\n",
      " 15  Unemployment_Total                     9354 non-null   object \n",
      " 16  Unemployment_Rate                      9354 non-null   float64\n",
      "dtypes: float64(5), int64(6), object(6)\n",
      "memory usage: 1.3+ MB\n"
     ]
    }
   ],
   "source": [
    "#Next we want to join the relevant unemployment data with our cov_tot_df such that each tuple in the df consists of a\n",
    "#state name, state level cases and deaths of covid_19, national cases and deaths of covid_19, and the unemployment rate\n",
    "#of the state for that month. We can do this by slicing the date string\n",
    "\n",
    "cov_tot_df = cov_tot_df.reset_index()\n",
    "\n",
    "#create list of month integers from 'date' column\n",
    "month_data = []\n",
    "for date in cov_tot_df['date']:\n",
    "    month_data.append(int(date[5:7]))\n",
    "\n",
    "#store as a pandas series and append to cov_tot_df\n",
    "month_series = pd.Series(month_data)\n",
    "cov_tot_df['month'] = month_series\n",
    "\n",
    "#perform join on unemp_df\n",
    "unemp_df = unemp_df.rename(columns={'State and area': 'state', 'Month': 'month'})\n",
    "cov_unemp_df = pd.merge(cov_tot_df, unemp_df, how='left', on=['month', 'state'])\n",
    "\n",
    "#drop data from after august (no unemployment data) AND from US territories\n",
    "territories = ['Puerto Rico', 'Virgin Islands', 'Northern Mariana Islands', 'Guam']\n",
    "\n",
    "temp = cov_unemp_df.drop(cov_unemp_df[cov_unemp_df['month'] > 8].index)\n",
    "clean_data = temp.drop(temp[temp['state'].isin(territories)].index)\n",
    "\n",
    "#this gives us a clean dataset with no null values, containing only information from 50 states.\n",
    "clean_data.info()"
   ]
  },
  {
   "cell_type": "code",
   "execution_count": 80,
   "metadata": {},
   "outputs": [],
   "source": [
    "#Write cleaned data to a .csv for further analysis\n",
    "clean_data.to_csv('cleaned_covid19_unemployment_data.csv', index=False)"
   ]
  }
 ],
 "metadata": {
  "kernelspec": {
   "display_name": "Python 3",
   "language": "python",
   "name": "python3"
  },
  "language_info": {
   "codemirror_mode": {
    "name": "ipython",
    "version": 3
   },
   "file_extension": ".py",
   "mimetype": "text/x-python",
   "name": "python",
   "nbconvert_exporter": "python",
   "pygments_lexer": "ipython3",
   "version": "3.7.6"
  }
 },
 "nbformat": 4,
 "nbformat_minor": 4
}
